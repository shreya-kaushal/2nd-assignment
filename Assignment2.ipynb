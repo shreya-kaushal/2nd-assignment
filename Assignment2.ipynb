{
 "cells": [
  {
   "cell_type": "code",
   "execution_count": 1,
   "metadata": {},
   "outputs": [
    {
     "name": "stdout",
     "output_type": "stream",
     "text": [
      "Enter Natural number : 5\n",
      "1\n",
      "2\n",
      "3\n",
      "4\n",
      "5\n",
      "Enter Natural number for output in reverse: 5\n",
      "5\n",
      "4\n",
      "3\n",
      "2\n",
      "1\n",
      "0\n"
     ]
    }
   ],
   "source": [
    "#Question1:Write a program to print all the natural numbers from 1 to n (user input). Then print the same in reverse order.\n",
    "n=int(input(\"Enter Natural number : \"))\n",
    "i=1;\n",
    "while i<=n:\n",
    "    print(i),\n",
    "    i=i+1\n",
    "n=int(input(\"Enter Natural number for output in reverse: \"))\n",
    "i=n\n",
    "while (i>=0):\n",
    "    print(i)\n",
    "    i=i-1"
   ]
  },
  {
   "cell_type": "code",
   "execution_count": 5,
   "metadata": {},
   "outputs": [
    {
     "name": "stdout",
     "output_type": "stream",
     "text": [
      "1 is odd.\n",
      "2 is even.\n",
      "3 is odd.\n",
      "4 is even.\n",
      "5 is odd.\n",
      "6 is even.\n",
      "7 is odd.\n",
      "8 is even.\n",
      "9 is odd.\n",
      "10 is even.\n",
      "11 is odd.\n",
      "12 is even.\n",
      "13 is odd.\n",
      "14 is even.\n",
      "15 is odd.\n",
      "16 is even.\n",
      "17 is odd.\n",
      "18 is even.\n",
      "19 is odd.\n",
      "20 is even.\n",
      "21 is odd.\n",
      "22 is even.\n",
      "23 is odd.\n",
      "24 is even.\n",
      "25 is odd.\n",
      "26 is even.\n",
      "27 is odd.\n",
      "28 is even.\n",
      "29 is odd.\n",
      "30 is even.\n",
      "31 is odd.\n",
      "32 is even.\n",
      "33 is odd.\n",
      "34 is even.\n",
      "35 is odd.\n",
      "36 is even.\n",
      "37 is odd.\n",
      "38 is even.\n",
      "39 is odd.\n",
      "40 is even.\n",
      "41 is odd.\n",
      "42 is even.\n",
      "43 is odd.\n",
      "44 is even.\n",
      "45 is odd.\n",
      "46 is even.\n",
      "47 is odd.\n",
      "48 is even.\n",
      "49 is odd.\n",
      "50 is even.\n",
      "51 is odd.\n",
      "52 is even.\n",
      "53 is odd.\n",
      "54 is even.\n",
      "55 is odd.\n",
      "56 is even.\n",
      "57 is odd.\n",
      "58 is even.\n",
      "59 is odd.\n",
      "60 is even.\n",
      "61 is odd.\n",
      "62 is even.\n",
      "63 is odd.\n",
      "64 is even.\n",
      "65 is odd.\n",
      "66 is even.\n",
      "67 is odd.\n",
      "68 is even.\n",
      "69 is odd.\n",
      "70 is even.\n",
      "71 is odd.\n",
      "72 is even.\n",
      "73 is odd.\n",
      "74 is even.\n",
      "75 is odd.\n",
      "76 is even.\n",
      "77 is odd.\n",
      "78 is even.\n",
      "79 is odd.\n",
      "80 is even.\n",
      "81 is odd.\n",
      "82 is even.\n",
      "83 is odd.\n",
      "84 is even.\n",
      "85 is odd.\n",
      "86 is even.\n",
      "87 is odd.\n",
      "88 is even.\n",
      "89 is odd.\n",
      "90 is even.\n",
      "91 is odd.\n",
      "92 is even.\n",
      "93 is odd.\n",
      "94 is even.\n",
      "95 is odd.\n",
      "96 is even.\n",
      "97 is odd.\n",
      "98 is even.\n",
      "99 is odd.\n",
      "100 is even.\n"
     ]
    }
   ],
   "source": [
    "#Ques2:Print all odd numbers and even numbers between 1 to 100.\n",
    "n = 1 \n",
    "while(n<=100): \n",
    "        if(n%2==0): \n",
    "            print (n, \"is even.\")\n",
    "        else:\n",
    "             print (n, \"is odd.\") \n",
    "        n=n+1"
   ]
  },
  {
   "cell_type": "code",
   "execution_count": 8,
   "metadata": {},
   "outputs": [
    {
     "name": "stdout",
     "output_type": "stream",
     "text": [
      "Enter a number: 4\n",
      "4 is not a prime number\n"
     ]
    }
   ],
   "source": [
    "#ques3:Write a program to check if a number is prime or not. \n",
    "\n",
    "num = int(input(\"Enter a number: \"))\n",
    "if num > 1:\n",
    "    for i in range(2,num):\n",
    "        if (num % i) == 0:\n",
    "            print(num,\"is not a prime number\")\n",
    "            break\n",
    "        else:\n",
    "            print(num,\"is a prime number\")"
   ]
  },
  {
   "cell_type": "code",
   "execution_count": 41,
   "metadata": {},
   "outputs": [
    {
     "name": "stdout",
     "output_type": "stream",
     "text": [
      "enter the number:10\n",
      "33\n"
     ]
    }
   ],
   "source": [
    "#Ques4. Write a program that asks the user for a number n and prints the sum of the numbers 1 to n such that only multiples of three or five are considered in the sum, e.g. 3, 5, 6, 9, 10, 12, 15 for n=17\n",
    "x=1\n",
    "sum=0\n",
    "n=int(input(\"enter the number:\"))\n",
    "for i in range (x,n+1):\n",
    "    if(i%3==0 or i%5==0):\n",
    "        sum=sum+i\n",
    "print(sum)\n"
   ]
  },
  {
   "cell_type": "code",
   "execution_count": 9,
   "metadata": {},
   "outputs": [
    {
     "name": "stdout",
     "output_type": "stream",
     "text": [
      "enter the numner:10\n",
      "product or sum:sum\n",
      "45\n"
     ]
    }
   ],
   "source": [
    "#Ques5:Write a program that asks the user for a number n and gives them the possibility to choose between computing the sum and computing the product of 1,…,n.\n",
    "\n",
    "n=int(input(\"enter the numner:\"))\n",
    "c=input(\"product or sum:\")\n",
    "pr=1\n",
    "s=0\n",
    "if(c==\"product\"):\n",
    "    for i in range(1,n):\n",
    "        pr=pr*i;\n",
    "    print(pr)\n",
    "else:\n",
    "    for i in range(1,n):\n",
    "        s=s+i;\n",
    "    print(s)"
   ]
  },
  {
   "cell_type": "code",
   "execution_count": 7,
   "metadata": {},
   "outputs": [
    {
     "name": "stdout",
     "output_type": "stream",
     "text": [
      "234168\n"
     ]
    }
   ],
   "source": [
    "#Q6. Find the sum of all the multiples of 3 or 5 below 1000.\n",
    "s=0\n",
    "for i in range(1,1001):\n",
    "     if (i % 5 ==0 or  i % 3==0):\n",
    "            s=s+i\n",
    "print(s)\n",
    "         "
   ]
  },
  {
   "cell_type": "code",
   "execution_count": 42,
   "metadata": {},
   "outputs": [
    {
     "name": "stdout",
     "output_type": "stream",
     "text": [
      "2002\n",
      "2009\n",
      "2016\n",
      "2023\n",
      "2037\n",
      "2044\n",
      "2051\n",
      "2058\n",
      "2072\n",
      "2079\n",
      "2086\n",
      "2093\n",
      "2107\n",
      "2114\n",
      "2121\n",
      "2128\n",
      "2142\n",
      "2149\n",
      "2156\n",
      "2163\n",
      "2177\n",
      "2184\n",
      "2191\n",
      "2198\n",
      "2212\n",
      "2219\n",
      "2226\n",
      "2233\n",
      "2247\n",
      "2254\n",
      "2261\n",
      "2268\n",
      "2282\n",
      "2289\n",
      "2296\n",
      "2303\n",
      "2317\n",
      "2324\n",
      "2331\n",
      "2338\n",
      "2352\n",
      "2359\n",
      "2366\n",
      "2373\n",
      "2387\n",
      "2394\n",
      "2401\n",
      "2408\n",
      "2422\n",
      "2429\n",
      "2436\n",
      "2443\n",
      "2457\n",
      "2464\n",
      "2471\n",
      "2478\n",
      "2492\n",
      "2499\n",
      "2506\n",
      "2513\n",
      "2527\n",
      "2534\n",
      "2541\n",
      "2548\n",
      "2562\n",
      "2569\n",
      "2576\n",
      "2583\n",
      "2597\n",
      "2604\n",
      "2611\n",
      "2618\n",
      "2632\n",
      "2639\n",
      "2646\n",
      "2653\n",
      "2667\n",
      "2674\n",
      "2681\n",
      "2688\n",
      "2702\n",
      "2709\n",
      "2716\n",
      "2723\n",
      "2737\n",
      "2744\n",
      "2751\n",
      "2758\n",
      "2772\n",
      "2779\n",
      "2786\n",
      "2793\n",
      "2807\n",
      "2814\n",
      "2821\n",
      "2828\n",
      "2842\n",
      "2849\n",
      "2856\n",
      "2863\n",
      "2877\n",
      "2884\n",
      "2891\n",
      "2898\n",
      "2912\n",
      "2919\n",
      "2926\n",
      "2933\n",
      "2947\n",
      "2954\n",
      "2961\n",
      "2968\n",
      "2982\n",
      "2989\n",
      "2996\n",
      "3003\n",
      "3017\n",
      "3024\n",
      "3031\n",
      "3038\n",
      "3052\n",
      "3059\n",
      "3066\n",
      "3073\n",
      "3087\n",
      "3094\n",
      "3101\n",
      "3108\n",
      "3122\n",
      "3129\n",
      "3136\n",
      "3143\n",
      "3157\n",
      "3164\n",
      "3171\n",
      "3178\n",
      "3192\n",
      "3199\n"
     ]
    }
   ],
   "source": [
    "#ques7: Write a program which will find all such numbers which are divisible by 7 but are not a multiple of 5, between 2000 and 3200 (both included).\n",
    "for i in range(2000,3201):\n",
    "     if (i % 7 ==0 and not i % 5==0):\n",
    "           \n",
    "            print(i)"
   ]
  },
  {
   "cell_type": "code",
   "execution_count": 43,
   "metadata": {},
   "outputs": [
    {
     "name": "stdout",
     "output_type": "stream",
     "text": [
      "25164150\n"
     ]
    }
   ],
   "source": [
    "#Q8. Find the difference between the sum of the squares of the first one hundred natural numbers and the square of the sum.\n",
    "sumofsquares = 0\n",
    "nsum = 0\n",
    "\n",
    "for x in range(1, 101):\n",
    "    sumofsquares += x ** 2\n",
    "\n",
    "for n in range(1, 101):\n",
    "    nsum += n\n",
    "\n",
    "print(nsum ** 2 - sumofsquares)"
   ]
  },
  {
   "cell_type": "code",
   "execution_count": 44,
   "metadata": {},
   "outputs": [
    {
     "name": "stdout",
     "output_type": "stream",
     "text": [
      "Enter a number: 4\n",
      "The factorial of 4 is 24\n"
     ]
    }
   ],
   "source": [
    "#QUES9. Write a program which can compute the factorial of a given number.#\n",
    "num = int(input(\"Enter a number: \"))    \n",
    "factorial = 1    \n",
    "if num < 0:    \n",
    "    print(\" Factorial does not exist for negative numbers\")    \n",
    "elif num == 0:    \n",
    "    print(\"The factorial of 0 is 1\")    \n",
    "else:    \n",
    "    for i in range(1,num + 1):    \n",
    "        factorial = factorial*i    \n",
    "    print(\"The factorial of\",num,\"is\",factorial)    "
   ]
  },
  {
   "cell_type": "code",
   "execution_count": 5,
   "metadata": {},
   "outputs": [
    {
     "name": "stdout",
     "output_type": "stream",
     "text": [
      "enter the number:4\n",
      "4444\n",
      "4334\n",
      "4334\n",
      "4444\n"
     ]
    }
   ],
   "source": [
    "#QUES10:pattern\n",
    "num=int(input(\"enter the number:\"))\n",
    "for i in range(num):\n",
    "    for j in range(num):\n",
    "        print(max(i+1,j+1,num-i,num-j),end='')\n",
    "    print()"
   ]
  },
  {
   "cell_type": "code",
   "execution_count": 3,
   "metadata": {},
   "outputs": [
    {
     "name": "stdout",
     "output_type": "stream",
     "text": [
      "enter the number:4\n",
      "*\n",
      "**\n",
      "***\n",
      "****\n"
     ]
    }
   ],
   "source": [
    "#10:\n",
    "num=int(input(\"enter the number:\"))\n",
    "for i in range(0,num):\n",
    "    for j in range(0,i+1):\n",
    "        print('*', end='')\n",
    "    print('\\r')"
   ]
  },
  {
   "cell_type": "code",
   "execution_count": 4,
   "metadata": {},
   "outputs": [
    {
     "name": "stdout",
     "output_type": "stream",
     "text": [
      "enter the number:4\n",
      "####\n",
      "####\n",
      "####\n",
      "####\n"
     ]
    }
   ],
   "source": [
    "#10:\n",
    "n=int(input(\"enter the number:\"))\n",
    "for i in range(n):\n",
    "    for j in range(n):\n",
    "        print('#',end='')\n",
    "    print()"
   ]
  },
  {
   "cell_type": "code",
   "execution_count": 11,
   "metadata": {},
   "outputs": [
    {
     "name": "stdout",
     "output_type": "stream",
     "text": [
      "Enter the number:9\n",
      "11106\n"
     ]
    }
   ],
   "source": [
    "#QUES11. Write a program that computes the value of a+aa+aaa+aaaa with a given digit as the value of a.\n",
    "#Suppose the following input is supplied to the program:9, Then, the output should be: 9 + 99 + 999 + 9999 =  11106.\n",
    "a = int(input(\"Enter the number:\"))\n",
    "a1 = int( \"%s\" % a )\n",
    "a2 = int( \"%s%s\" % (a,a) )\n",
    "a3 = int( \"%s%s%s\" % (a,a,a) )\n",
    "a4 = int( \"%s%s%s%s\" % (a,a,a,a) )\n",
    "print(a1+a2+a3+a4)"
   ]
  },
  {
   "cell_type": "code",
   "execution_count": 15,
   "metadata": {},
   "outputs": [
    {
     "name": "stdout",
     "output_type": "stream",
     "text": [
      "enter the string:shreya\n",
      "length of the string:6\n"
     ]
    }
   ],
   "source": [
    "#QUES12. Find the length of a string using loops (not len()).\n",
    "input_str= str(input(\"enter the string:\"))\n",
    "count=0\n",
    "for i in input_str:\n",
    "    count=count+1\n",
    "print(\"length of the string:\",end='')\n",
    "print(count)"
   ]
  },
  {
   "cell_type": "code",
   "execution_count": 16,
   "metadata": {},
   "outputs": [
    {
     "name": "stdout",
     "output_type": "stream",
     "text": [
      "enter the sentence:my birth year is 2001\n",
      "digit: 4\n",
      "letter: 13\n"
     ]
    }
   ],
   "source": [
    "#QUES13. Write a program that accepts a sentence (string) and calculate the number of letters and digits. Example: ‘this is a test sentence number 389’ ==> letters = 25 and digits = 3.\n",
    "str = input(\"enter the sentence:\")\n",
    "letter=digit=0\n",
    "for ch in str:\n",
    "    if ch.isdigit():\n",
    "        digit=digit+1\n",
    "    elif ch.isalpha():\n",
    "        letter=letter+1\n",
    "    else:\n",
    "        pass\n",
    "print(\"digit:\",digit)\n",
    "print(\"letter:\",letter)"
   ]
  },
  {
   "cell_type": "code",
   "execution_count": 20,
   "metadata": {},
   "outputs": [
    {
     "name": "stdout",
     "output_type": "stream",
     "text": [
      " Enter your Own String : hello\n",
      "The Given String in Uppercase =   HELLO\n"
     ]
    }
   ],
   "source": [
    "#QUES14.  Write a program that accepts a string and outputs the string with all capital letters.\n",
    "#Example: ‘hello’ ==> ‘HELLO’. (using loop)\n",
    "s = input(\" Enter your Own String : \")\n",
    "s1 = ''\n",
    "\n",
    "for i in range(len(s)):\n",
    "    if(s[i] >= 'a' and s[i] <= 'z'):\n",
    "        s1 = s1 + chr((ord(s[i]) - 32))\n",
    "    else:\n",
    "        s1 = s1 + s[i]\n",
    "print(\"The Given String in Uppercase =  \", s1)"
   ]
  },
  {
   "cell_type": "code",
   "execution_count": 27,
   "metadata": {},
   "outputs": [
    {
     "name": "stdout",
     "output_type": "stream",
     "text": [
      "enter the sentence:Shreya \n",
      "Upper: 1\n",
      "Lower: 5\n"
     ]
    }
   ],
   "source": [
    "#QUES15. Write a program that accepts a sentence and calculate the number of upper case letters and lower case letters.\n",
    "s=input(\"enter the sentence:\")\n",
    "upper=lower=0\n",
    "for ch in s:\n",
    "    if ch.isupper():\n",
    "        upper=upper+1\n",
    "    elif ch.islower():\n",
    "        lower=lower+1\n",
    "    else:\n",
    "        pass\n",
    "print(\"Upper:\", upper)\n",
    "print(\"Lower:\", lower)"
   ]
  },
  {
   "cell_type": "code",
   "execution_count": 31,
   "metadata": {},
   "outputs": [
    {
     "name": "stdout",
     "output_type": "stream",
     "text": [
      "Enter the string:shreya kaushal\n",
      "Entr the character:a\n",
      "3\n"
     ]
    }
   ],
   "source": [
    "#QUES16. Write  a program that counts the occurrence of a character in a string.\n",
    "#Example: ‘This is a test string.’ count of i = 3.\n",
    "str= input(\"Enter the string:\")\n",
    "c= input(\"Entr the character:\")\n",
    "occ=0\n",
    "for i in range(len(str)) :\n",
    "    if(str[i]==c):\n",
    "        occ+=1\n",
    "print(occ)"
   ]
  },
  {
   "cell_type": "code",
   "execution_count": 33,
   "metadata": {},
   "outputs": [
    {
     "name": "stdout",
     "output_type": "stream",
     "text": [
      "Enter the string:nitin\n",
      "nitin is a palindrome\n"
     ]
    }
   ],
   "source": [
    "#QUES17. Write a program to find if a given string is a palindrome or not.\n",
    "s= input(\"Enter the string:\")\n",
    "if s == s[::-1]:\n",
    "    print(s,\"is a palindrome\")\n",
    "else:\n",
    "    print(s,\"is not a palindrome\")"
   ]
  },
  {
   "cell_type": "code",
   "execution_count": 35,
   "metadata": {},
   "outputs": [
    {
     "name": "stdout",
     "output_type": "stream",
     "text": [
      "Enter string:shreya kaushal\n",
      "Enter word:shreya\n",
      "Substring found!\n"
     ]
    }
   ],
   "source": [
    "#QUES18. Write a program which accepts two strings s1 and s2 and checks if s2 is a substring of s1.\n",
    "string=input(\"Enter string:\")\n",
    "sub_str=input(\"Enter word:\")\n",
    "if(string.find(sub_str)==-1):\n",
    "      print(\"Substring not found in string!\")\n",
    "else:\n",
    "      print(\"Substring found!\")"
   ]
  },
  {
   "cell_type": "code",
   "execution_count": 37,
   "metadata": {},
   "outputs": [
    {
     "name": "stdout",
     "output_type": "stream",
     "text": [
      "Enter a password: shreyakaushal2001\n",
      "Your password is good\n"
     ]
    }
   ],
   "source": [
    "#QUES19.Make a password validator with the following checks. \n",
    "#A website requires the users to input username and password to register. \n",
    "#Write a program to check the validity of password input by users.\n",
    "import re\n",
    "password = input(\"Enter a password: \")\n",
    "if len(password) < 8:\n",
    "    print(\"Make sure your password is atleast of 8 letters\")\n",
    "elif re.search('[0-9]',password) is None:\n",
    "    print(\"Make sure your password has a number in it\")\n",
    "elif re.search('[a-z]',password) is None: \n",
    "    print(\"Make sure your password has a capital letter in it\")\n",
    "else:\n",
    "    print(\"Your password is good\")"
   ]
  },
  {
   "cell_type": "code",
   "execution_count": 40,
   "metadata": {},
   "outputs": [
    {
     "name": "stdout",
     "output_type": "stream",
     "text": [
      "Type a desired sentence: heeloo\n",
      "Vowels in the sentence are: eeoo\n"
     ]
    }
   ],
   "source": [
    "#QUES20. s = \"Hello how are you all\". For this given string write a code such that it prints the vowels present in the string s \n",
    "# if any.  ex: \"i\", \"a\" etc.\n",
    "vowels = ['a', 'e', 'i', 'o', 'u']\n",
    "characters_input = input('Type a desired sentence: ')\n",
    "input_list = list(characters_input)\n",
    "vowels_list = []\n",
    "for x in input_list:\n",
    "    if x.lower() in vowels:\n",
    "        vowels_list.append(x)\n",
    "vowels_string = ''.join(vowels_list)\n",
    "print(\"Vowels in the sentence are:\",vowels_string)"
   ]
  },
  {
   "cell_type": "code",
   "execution_count": null,
   "metadata": {},
   "outputs": [],
   "source": []
  },
  {
   "cell_type": "code",
   "execution_count": null,
   "metadata": {},
   "outputs": [],
   "source": []
  },
  {
   "cell_type": "code",
   "execution_count": null,
   "metadata": {},
   "outputs": [],
   "source": []
  },
  {
   "cell_type": "code",
   "execution_count": null,
   "metadata": {},
   "outputs": [],
   "source": []
  },
  {
   "cell_type": "code",
   "execution_count": null,
   "metadata": {},
   "outputs": [],
   "source": []
  }
 ],
 "metadata": {
  "kernelspec": {
   "display_name": "Python 3",
   "language": "python",
   "name": "python3"
  },
  "language_info": {
   "codemirror_mode": {
    "name": "ipython",
    "version": 3
   },
   "file_extension": ".py",
   "mimetype": "text/x-python",
   "name": "python",
   "nbconvert_exporter": "python",
   "pygments_lexer": "ipython3",
   "version": "3.8.3"
  }
 },
 "nbformat": 4,
 "nbformat_minor": 4
}
